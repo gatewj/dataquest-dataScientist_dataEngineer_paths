{
 "cells": [
  {
   "cell_type": "markdown",
   "metadata": {},
   "source": [
    "# Analyzing NYC High School Data\n",
    "\n",
    "For a brief bit of background, the SAT, or Scholastic Aptitude Test, is a test that high school seniors in the U.S. take every year. The SAT has three sections, each is worth 800 points. Colleges use the SAT to determine which students to admit. High average SAT scores are usually indicative of a good school.\n",
    "\n",
    "New York City has published data on student SAT scores by high school, along with additional demographic datasets. During some of the other lessons, we combined the following datasets into a single, clean pandas dataframe:\n",
    "\n",
    "* SAT scores by school - SAT scores for each high school in New York City\n",
    "* School attendance - Attendance information for each school in New York City\n",
    "* Class size - Information on class size for each school\n",
    "* AP test results - Advanced Placement (AP) exam results for each high school (passing an optional AP exam in a particular subject can earn a student college credit in that subject)\n",
    "* Graduation outcomes - The percentage of students who graduated and other outcome information\n",
    "* Demographics - Demographic information for each school\n",
    "* School survey - Surveys of parents, teachers, and students at each school\n",
    "\n",
    "New York City has a significant immigrant population and is very diverse, so comparing demographic factors such as race, income, and gender with SAT scores is a good way to determine whether the SAT is a fair test. For example, if certain racial groups consistently perform better on the SAT, we would have some evidence that the SAT is unfair."
   ]
  },
  {
   "cell_type": "code",
   "execution_count": 35,
   "metadata": {},
   "outputs": [],
   "source": [
    "# Read in the data\n",
    "import pandas as pd\n",
    "import numpy\n",
    "import re\n",
    "\n",
    "data_files = [\n",
    "    \"ap_2010.csv\",\n",
    "    \"class_size.csv\",\n",
    "    \"demographics.csv\",\n",
    "    \"graduation.csv\",\n",
    "    \"hs_directory.csv\",\n",
    "    \"sat_results.csv\"\n",
    "]\n",
    "\n",
    "data = {}\n",
    "\n",
    "for f in data_files:\n",
    "    d = pd.read_csv(\"schools/{0}\".format(f))\n",
    "    data[f.replace(\".csv\", \"\")] = d"
   ]
  },
  {
   "cell_type": "markdown",
   "metadata": {},
   "source": [
    "# Read in the surveys"
   ]
  },
  {
   "cell_type": "code",
   "execution_count": 36,
   "metadata": {},
   "outputs": [],
   "source": [
    "all_survey = pd.read_csv(\"schools/survey_all.txt\", delimiter=\"\\t\", encoding='windows-1252')\n",
    "d75_survey = pd.read_csv(\"schools/survey_d75.txt\", delimiter=\"\\t\", encoding='windows-1252')\n",
    "survey = pd.concat([all_survey, d75_survey], axis=0)\n",
    "\n",
    "survey[\"DBN\"] = survey[\"dbn\"]\n",
    "\n",
    "survey_fields = [\n",
    "    \"DBN\", \n",
    "    \"rr_s\", \n",
    "    \"rr_t\", \n",
    "    \"rr_p\", \n",
    "    \"N_s\", \n",
    "    \"N_t\", \n",
    "    \"N_p\", \n",
    "    \"saf_p_11\", \n",
    "    \"com_p_11\", \n",
    "    \"eng_p_11\", \n",
    "    \"aca_p_11\", \n",
    "    \"saf_t_11\", \n",
    "    \"com_t_11\", \n",
    "    \"eng_t_11\", \n",
    "    \"aca_t_11\", \n",
    "    \"saf_s_11\", \n",
    "    \"com_s_11\", \n",
    "    \"eng_s_11\", \n",
    "    \"aca_s_11\", \n",
    "    \"saf_tot_11\", \n",
    "    \"com_tot_11\", \n",
    "    \"eng_tot_11\", \n",
    "    \"aca_tot_11\",\n",
    "]\n",
    "survey = survey.loc[:,survey_fields]\n",
    "data[\"survey\"] = survey"
   ]
  },
  {
   "cell_type": "markdown",
   "metadata": {},
   "source": [
    "# Add DBN columns"
   ]
  },
  {
   "cell_type": "code",
   "execution_count": 37,
   "metadata": {},
   "outputs": [],
   "source": [
    "data[\"hs_directory\"][\"DBN\"] = data[\"hs_directory\"][\"dbn\"]\n",
    "\n",
    "def pad_csd(num):\n",
    "    string_representation = str(num)\n",
    "    if len(string_representation) > 1:\n",
    "        return string_representation\n",
    "    else:\n",
    "        return \"0\" + string_representation\n",
    "    \n",
    "data[\"class_size\"][\"padded_csd\"] = data[\"class_size\"][\"CSD\"].apply(pad_csd)\n",
    "data[\"class_size\"][\"DBN\"] = data[\"class_size\"][\"padded_csd\"] + data[\"class_size\"][\"SCHOOL CODE\"]"
   ]
  },
  {
   "cell_type": "markdown",
   "metadata": {},
   "source": [
    "# Convert columns to numeric"
   ]
  },
  {
   "cell_type": "code",
   "execution_count": 38,
   "metadata": {},
   "outputs": [],
   "source": [
    "cols = ['SAT Math Avg. Score', 'SAT Critical Reading Avg. Score', 'SAT Writing Avg. Score']\n",
    "for c in cols:\n",
    "    data[\"sat_results\"][c] = pd.to_numeric(data[\"sat_results\"][c], errors=\"coerce\")\n",
    "\n",
    "data['sat_results']['sat_score'] = data['sat_results'][cols[0]] + data['sat_results'][cols[1]] + data['sat_results'][cols[2]]\n",
    "\n",
    "def find_lat(loc):\n",
    "    coords = re.findall(\"\\(.+, .+\\)\", loc)\n",
    "    lat = coords[0].split(\",\")[0].replace(\"(\", \"\")\n",
    "    return lat\n",
    "\n",
    "def find_lon(loc):\n",
    "    coords = re.findall(\"\\(.+, .+\\)\", loc)\n",
    "    lon = coords[0].split(\",\")[1].replace(\")\", \"\").strip()\n",
    "    return lon\n",
    "\n",
    "data[\"hs_directory\"][\"lat\"] = data[\"hs_directory\"][\"Location 1\"].apply(find_lat)\n",
    "data[\"hs_directory\"][\"lon\"] = data[\"hs_directory\"][\"Location 1\"].apply(find_lon)\n",
    "\n",
    "data[\"hs_directory\"][\"lat\"] = pd.to_numeric(data[\"hs_directory\"][\"lat\"], errors=\"coerce\")\n",
    "data[\"hs_directory\"][\"lon\"] = pd.to_numeric(data[\"hs_directory\"][\"lon\"], errors=\"coerce\")"
   ]
  },
  {
   "cell_type": "markdown",
   "metadata": {},
   "source": [
    "# Condense datasets"
   ]
  },
  {
   "cell_type": "code",
   "execution_count": 39,
   "metadata": {},
   "outputs": [],
   "source": [
    "class_size = data[\"class_size\"]\n",
    "class_size = class_size[class_size[\"GRADE \"] == \"09-12\"]\n",
    "class_size = class_size[class_size[\"PROGRAM TYPE\"] == \"GEN ED\"]\n",
    "\n",
    "class_size = class_size.groupby(\"DBN\").agg(numpy.mean)\n",
    "class_size.reset_index(inplace=True)\n",
    "data[\"class_size\"] = class_size\n",
    "\n",
    "data[\"demographics\"] = data[\"demographics\"][data[\"demographics\"][\"schoolyear\"] == 20112012]\n",
    "\n",
    "data[\"graduation\"] = data[\"graduation\"][data[\"graduation\"][\"Cohort\"] == \"2006\"]\n",
    "data[\"graduation\"] = data[\"graduation\"][data[\"graduation\"][\"Demographic\"] == \"Total Cohort\"]"
   ]
  },
  {
   "cell_type": "markdown",
   "metadata": {},
   "source": [
    "# Convert AP scores to numeric"
   ]
  },
  {
   "cell_type": "code",
   "execution_count": 40,
   "metadata": {},
   "outputs": [],
   "source": [
    "cols = ['AP Test Takers ', 'Total Exams Taken', 'Number of Exams with scores 3 4 or 5']\n",
    "\n",
    "for col in cols:\n",
    "    data[\"ap_2010\"][col] = pd.to_numeric(data[\"ap_2010\"][col], errors=\"coerce\")"
   ]
  },
  {
   "cell_type": "markdown",
   "metadata": {},
   "source": [
    "# Combine the datasets"
   ]
  },
  {
   "cell_type": "code",
   "execution_count": 41,
   "metadata": {},
   "outputs": [],
   "source": [
    "combined = data[\"sat_results\"]\n",
    "\n",
    "combined = combined.merge(data[\"ap_2010\"], on=\"DBN\", how=\"left\")\n",
    "combined = combined.merge(data[\"graduation\"], on=\"DBN\", how=\"left\")\n",
    "\n",
    "to_merge = [\"class_size\", \"demographics\", \"survey\", \"hs_directory\"]\n",
    "\n",
    "for m in to_merge:\n",
    "    combined = combined.merge(data[m], on=\"DBN\", how=\"inner\")\n",
    "\n",
    "combined = combined.fillna(combined.mean())\n",
    "combined = combined.fillna(0)"
   ]
  },
  {
   "cell_type": "markdown",
   "metadata": {},
   "source": [
    "# Add a school district column for mapping"
   ]
  },
  {
   "cell_type": "code",
   "execution_count": 42,
   "metadata": {},
   "outputs": [],
   "source": [
    "def get_first_two_chars(dbn):\n",
    "    return dbn[0:2]\n",
    "\n",
    "combined[\"school_dist\"] = combined[\"DBN\"].apply(get_first_two_chars)"
   ]
  },
  {
   "cell_type": "markdown",
   "metadata": {},
   "source": [
    "# Find correlations"
   ]
  },
  {
   "cell_type": "code",
   "execution_count": 43,
   "metadata": {},
   "outputs": [
    {
     "name": "stdout",
     "output_type": "stream",
     "text": [
      "SAT Critical Reading Avg. Score    0.986820\n",
      "SAT Math Avg. Score                0.972643\n",
      "SAT Writing Avg. Score             0.987771\n",
      "sat_score                          1.000000\n",
      "AP Test Takers                     0.523140\n",
      "                                     ...   \n",
      "priority08                              NaN\n",
      "priority09                              NaN\n",
      "priority10                              NaN\n",
      "lat                               -0.121029\n",
      "lon                               -0.132222\n",
      "Name: sat_score, Length: 67, dtype: float64\n"
     ]
    }
   ],
   "source": [
    "correlations = combined.corr()\n",
    "correlations = correlations[\"sat_score\"]\n",
    "print(correlations)"
   ]
  },
  {
   "cell_type": "markdown",
   "metadata": {},
   "source": [
    "# Plotting survey correlations"
   ]
  },
  {
   "cell_type": "code",
   "execution_count": 44,
   "metadata": {},
   "outputs": [],
   "source": [
    "# Remove DBN since it's a unique identifier, not a useful numerical value for correlation.\n",
    "survey_fields.remove(\"DBN\")"
   ]
  },
  {
   "cell_type": "code",
   "execution_count": 45,
   "metadata": {},
   "outputs": [],
   "source": [
    "import matplotlib.pyplot as plt\n",
    "\n",
    "%matplotlib inline"
   ]
  },
  {
   "cell_type": "code",
   "execution_count": 46,
   "metadata": {},
   "outputs": [
    {
     "data": {
      "text/plain": [
       "['DBN',\n",
       " 'SCHOOL NAME',\n",
       " 'Num of SAT Test Takers',\n",
       " 'SAT Critical Reading Avg. Score',\n",
       " 'SAT Math Avg. Score',\n",
       " 'SAT Writing Avg. Score',\n",
       " 'sat_score',\n",
       " 'SchoolName',\n",
       " 'AP Test Takers ',\n",
       " 'Total Exams Taken',\n",
       " 'Number of Exams with scores 3 4 or 5',\n",
       " 'Demographic',\n",
       " 'School Name',\n",
       " 'Cohort',\n",
       " 'Total Cohort',\n",
       " 'Total Grads - n',\n",
       " 'Total Grads - % of cohort',\n",
       " 'Total Regents - n',\n",
       " 'Total Regents - % of cohort',\n",
       " 'Total Regents - % of grads',\n",
       " 'Advanced Regents - n',\n",
       " 'Advanced Regents - % of cohort',\n",
       " 'Advanced Regents - % of grads',\n",
       " 'Regents w/o Advanced - n',\n",
       " 'Regents w/o Advanced - % of cohort',\n",
       " 'Regents w/o Advanced - % of grads',\n",
       " 'Local - n',\n",
       " 'Local - % of cohort',\n",
       " 'Local - % of grads',\n",
       " 'Still Enrolled - n',\n",
       " 'Still Enrolled - % of cohort',\n",
       " 'Dropped Out - n',\n",
       " 'Dropped Out - % of cohort',\n",
       " 'CSD',\n",
       " 'NUMBER OF STUDENTS / SEATS FILLED',\n",
       " 'NUMBER OF SECTIONS',\n",
       " 'AVERAGE CLASS SIZE',\n",
       " 'SIZE OF SMALLEST CLASS',\n",
       " 'SIZE OF LARGEST CLASS',\n",
       " 'SCHOOLWIDE PUPIL-TEACHER RATIO',\n",
       " 'Name',\n",
       " 'schoolyear',\n",
       " 'fl_percent',\n",
       " 'frl_percent',\n",
       " 'total_enrollment',\n",
       " 'prek',\n",
       " 'k',\n",
       " 'grade1',\n",
       " 'grade2',\n",
       " 'grade3',\n",
       " 'grade4',\n",
       " 'grade5',\n",
       " 'grade6',\n",
       " 'grade7',\n",
       " 'grade8',\n",
       " 'grade9',\n",
       " 'grade10',\n",
       " 'grade11',\n",
       " 'grade12',\n",
       " 'ell_num',\n",
       " 'ell_percent',\n",
       " 'sped_num',\n",
       " 'sped_percent',\n",
       " 'ctt_num',\n",
       " 'selfcontained_num',\n",
       " 'asian_num',\n",
       " 'asian_per',\n",
       " 'black_num',\n",
       " 'black_per',\n",
       " 'hispanic_num',\n",
       " 'hispanic_per',\n",
       " 'white_num',\n",
       " 'white_per',\n",
       " 'male_num',\n",
       " 'male_per',\n",
       " 'female_num',\n",
       " 'female_per',\n",
       " 'rr_s',\n",
       " 'rr_t',\n",
       " 'rr_p',\n",
       " 'N_s',\n",
       " 'N_t',\n",
       " 'N_p',\n",
       " 'saf_p_11',\n",
       " 'com_p_11',\n",
       " 'eng_p_11',\n",
       " 'aca_p_11',\n",
       " 'saf_t_11',\n",
       " 'com_t_11',\n",
       " 'eng_t_11',\n",
       " 'aca_t_11',\n",
       " 'saf_s_11',\n",
       " 'com_s_11',\n",
       " 'eng_s_11',\n",
       " 'aca_s_11',\n",
       " 'saf_tot_11',\n",
       " 'com_tot_11',\n",
       " 'eng_tot_11',\n",
       " 'aca_tot_11',\n",
       " 'dbn',\n",
       " 'school_name',\n",
       " 'boro',\n",
       " 'building_code',\n",
       " 'phone_number',\n",
       " 'fax_number',\n",
       " 'grade_span_min',\n",
       " 'grade_span_max',\n",
       " 'expgrade_span_min',\n",
       " 'expgrade_span_max',\n",
       " 'bus',\n",
       " 'subway',\n",
       " 'primary_address_line_1',\n",
       " 'city',\n",
       " 'state_code',\n",
       " 'zip',\n",
       " 'website',\n",
       " 'total_students',\n",
       " 'campus_name',\n",
       " 'school_type',\n",
       " 'overview_paragraph',\n",
       " 'program_highlights',\n",
       " 'language_classes',\n",
       " 'advancedplacement_courses',\n",
       " 'online_ap_courses',\n",
       " 'online_language_courses',\n",
       " 'extracurricular_activities',\n",
       " 'psal_sports_boys',\n",
       " 'psal_sports_girls',\n",
       " 'psal_sports_coed',\n",
       " 'school_sports',\n",
       " 'partner_cbo',\n",
       " 'partner_hospital',\n",
       " 'partner_highered',\n",
       " 'partner_cultural',\n",
       " 'partner_nonprofit',\n",
       " 'partner_corporate',\n",
       " 'partner_financial',\n",
       " 'partner_other',\n",
       " 'addtl_info1',\n",
       " 'addtl_info2',\n",
       " 'start_time',\n",
       " 'end_time',\n",
       " 'se_services',\n",
       " 'ell_programs',\n",
       " 'school_accessibility_description',\n",
       " 'number_programs',\n",
       " 'priority01',\n",
       " 'priority02',\n",
       " 'priority03',\n",
       " 'priority04',\n",
       " 'priority05',\n",
       " 'priority06',\n",
       " 'priority07',\n",
       " 'priority08',\n",
       " 'priority09',\n",
       " 'priority10',\n",
       " 'Location 1',\n",
       " 'lat',\n",
       " 'lon',\n",
       " 'school_dist']"
      ]
     },
     "execution_count": 46,
     "metadata": {},
     "output_type": "execute_result"
    }
   ],
   "source": [
    "list(combined.columns)"
   ]
  },
  {
   "cell_type": "code",
   "execution_count": 47,
   "metadata": {},
   "outputs": [
    {
     "data": {
      "text/html": [
       "<div>\n",
       "<style scoped>\n",
       "    .dataframe tbody tr th:only-of-type {\n",
       "        vertical-align: middle;\n",
       "    }\n",
       "\n",
       "    .dataframe tbody tr th {\n",
       "        vertical-align: top;\n",
       "    }\n",
       "\n",
       "    .dataframe thead th {\n",
       "        text-align: right;\n",
       "    }\n",
       "</style>\n",
       "<table border=\"1\" class=\"dataframe\">\n",
       "  <thead>\n",
       "    <tr style=\"text-align: right;\">\n",
       "      <th></th>\n",
       "      <th>sat_score</th>\n",
       "      <th>rr_s</th>\n",
       "      <th>rr_t</th>\n",
       "      <th>rr_p</th>\n",
       "      <th>N_s</th>\n",
       "      <th>N_t</th>\n",
       "      <th>N_p</th>\n",
       "      <th>saf_p_11</th>\n",
       "      <th>com_p_11</th>\n",
       "      <th>eng_p_11</th>\n",
       "      <th>...</th>\n",
       "      <th>eng_t_11</th>\n",
       "      <th>aca_t_11</th>\n",
       "      <th>saf_s_11</th>\n",
       "      <th>com_s_11</th>\n",
       "      <th>eng_s_11</th>\n",
       "      <th>aca_s_11</th>\n",
       "      <th>saf_tot_11</th>\n",
       "      <th>com_tot_11</th>\n",
       "      <th>eng_tot_11</th>\n",
       "      <th>aca_tot_11</th>\n",
       "    </tr>\n",
       "  </thead>\n",
       "  <tbody>\n",
       "    <tr>\n",
       "      <th>0</th>\n",
       "      <td>1122.0</td>\n",
       "      <td>89.0</td>\n",
       "      <td>70</td>\n",
       "      <td>39</td>\n",
       "      <td>379.000000</td>\n",
       "      <td>26.0</td>\n",
       "      <td>151.0</td>\n",
       "      <td>7.8</td>\n",
       "      <td>7.7</td>\n",
       "      <td>7.4</td>\n",
       "      <td>...</td>\n",
       "      <td>6.1</td>\n",
       "      <td>6.5</td>\n",
       "      <td>6.000000</td>\n",
       "      <td>5.600000</td>\n",
       "      <td>6.100000</td>\n",
       "      <td>6.700000</td>\n",
       "      <td>6.7</td>\n",
       "      <td>6.2</td>\n",
       "      <td>6.6</td>\n",
       "      <td>7.0</td>\n",
       "    </tr>\n",
       "    <tr>\n",
       "      <th>1</th>\n",
       "      <td>1172.0</td>\n",
       "      <td>84.0</td>\n",
       "      <td>95</td>\n",
       "      <td>10</td>\n",
       "      <td>385.000000</td>\n",
       "      <td>37.0</td>\n",
       "      <td>46.0</td>\n",
       "      <td>7.9</td>\n",
       "      <td>7.4</td>\n",
       "      <td>7.2</td>\n",
       "      <td>...</td>\n",
       "      <td>6.6</td>\n",
       "      <td>7.3</td>\n",
       "      <td>6.000000</td>\n",
       "      <td>5.700000</td>\n",
       "      <td>6.300000</td>\n",
       "      <td>7.000000</td>\n",
       "      <td>6.8</td>\n",
       "      <td>6.3</td>\n",
       "      <td>6.7</td>\n",
       "      <td>7.2</td>\n",
       "    </tr>\n",
       "    <tr>\n",
       "      <th>2</th>\n",
       "      <td>1149.0</td>\n",
       "      <td>0.0</td>\n",
       "      <td>98</td>\n",
       "      <td>28</td>\n",
       "      <td>598.208333</td>\n",
       "      <td>42.0</td>\n",
       "      <td>150.0</td>\n",
       "      <td>8.7</td>\n",
       "      <td>8.2</td>\n",
       "      <td>8.1</td>\n",
       "      <td>...</td>\n",
       "      <td>8.0</td>\n",
       "      <td>8.8</td>\n",
       "      <td>6.611667</td>\n",
       "      <td>6.094722</td>\n",
       "      <td>6.620278</td>\n",
       "      <td>7.381389</td>\n",
       "      <td>7.9</td>\n",
       "      <td>7.9</td>\n",
       "      <td>7.9</td>\n",
       "      <td>8.4</td>\n",
       "    </tr>\n",
       "    <tr>\n",
       "      <th>3</th>\n",
       "      <td>1207.0</td>\n",
       "      <td>90.0</td>\n",
       "      <td>100</td>\n",
       "      <td>21</td>\n",
       "      <td>306.000000</td>\n",
       "      <td>29.0</td>\n",
       "      <td>69.0</td>\n",
       "      <td>7.7</td>\n",
       "      <td>7.4</td>\n",
       "      <td>7.2</td>\n",
       "      <td>...</td>\n",
       "      <td>6.1</td>\n",
       "      <td>6.8</td>\n",
       "      <td>6.400000</td>\n",
       "      <td>5.900000</td>\n",
       "      <td>6.400000</td>\n",
       "      <td>7.000000</td>\n",
       "      <td>6.9</td>\n",
       "      <td>6.2</td>\n",
       "      <td>6.6</td>\n",
       "      <td>7.0</td>\n",
       "    </tr>\n",
       "    <tr>\n",
       "      <th>4</th>\n",
       "      <td>1621.0</td>\n",
       "      <td>98.0</td>\n",
       "      <td>68</td>\n",
       "      <td>51</td>\n",
       "      <td>923.000000</td>\n",
       "      <td>67.0</td>\n",
       "      <td>736.0</td>\n",
       "      <td>8.5</td>\n",
       "      <td>7.9</td>\n",
       "      <td>7.9</td>\n",
       "      <td>...</td>\n",
       "      <td>5.9</td>\n",
       "      <td>7.3</td>\n",
       "      <td>7.300000</td>\n",
       "      <td>6.400000</td>\n",
       "      <td>7.000000</td>\n",
       "      <td>7.700000</td>\n",
       "      <td>7.8</td>\n",
       "      <td>6.7</td>\n",
       "      <td>6.9</td>\n",
       "      <td>7.8</td>\n",
       "    </tr>\n",
       "  </tbody>\n",
       "</table>\n",
       "<p>5 rows × 23 columns</p>\n",
       "</div>"
      ],
      "text/plain": [
       "   sat_score  rr_s  rr_t  rr_p         N_s   N_t    N_p  saf_p_11  com_p_11  \\\n",
       "0     1122.0  89.0    70    39  379.000000  26.0  151.0       7.8       7.7   \n",
       "1     1172.0  84.0    95    10  385.000000  37.0   46.0       7.9       7.4   \n",
       "2     1149.0   0.0    98    28  598.208333  42.0  150.0       8.7       8.2   \n",
       "3     1207.0  90.0   100    21  306.000000  29.0   69.0       7.7       7.4   \n",
       "4     1621.0  98.0    68    51  923.000000  67.0  736.0       8.5       7.9   \n",
       "\n",
       "   eng_p_11  ...  eng_t_11  aca_t_11  saf_s_11  com_s_11  eng_s_11  aca_s_11  \\\n",
       "0       7.4  ...       6.1       6.5  6.000000  5.600000  6.100000  6.700000   \n",
       "1       7.2  ...       6.6       7.3  6.000000  5.700000  6.300000  7.000000   \n",
       "2       8.1  ...       8.0       8.8  6.611667  6.094722  6.620278  7.381389   \n",
       "3       7.2  ...       6.1       6.8  6.400000  5.900000  6.400000  7.000000   \n",
       "4       7.9  ...       5.9       7.3  7.300000  6.400000  7.000000  7.700000   \n",
       "\n",
       "   saf_tot_11  com_tot_11  eng_tot_11  aca_tot_11  \n",
       "0         6.7         6.2         6.6         7.0  \n",
       "1         6.8         6.3         6.7         7.2  \n",
       "2         7.9         7.9         7.9         8.4  \n",
       "3         6.9         6.2         6.6         7.0  \n",
       "4         7.8         6.7         6.9         7.8  \n",
       "\n",
       "[5 rows x 23 columns]"
      ]
     },
     "execution_count": 47,
     "metadata": {},
     "output_type": "execute_result"
    }
   ],
   "source": [
    "#combined['sat_score',survey_fields].corr()\n",
    "correlations = pd.concat([combined['sat_score'],combined[survey_fields]], axis=1)\n",
    "\n",
    "correlations.head()"
   ]
  },
  {
   "cell_type": "code",
   "execution_count": 48,
   "metadata": {},
   "outputs": [],
   "source": [
    "correlations_df = correlations.corr()"
   ]
  },
  {
   "cell_type": "code",
   "execution_count": 49,
   "metadata": {},
   "outputs": [],
   "source": [
    "correlations_bar = correlations_df['sat_score']"
   ]
  },
  {
   "cell_type": "code",
   "execution_count": 50,
   "metadata": {},
   "outputs": [
    {
     "data": {
      "text/plain": [
       "<matplotlib.axes._subplots.AxesSubplot at 0x7f4843a621f0>"
      ]
     },
     "execution_count": 50,
     "metadata": {},
     "output_type": "execute_result"
    },
    {
     "data": {
      "image/png": "[encoded data removed]",
      "text/plain": [
       "<Figure size 600x400 with 1 Axes>"
      ]
     },
     "metadata": {},
     "output_type": "display_data"
    }
   ],
   "source": [
    "correlations_bar.plot.bar()"
   ]
  },
  {
   "cell_type": "code",
   "execution_count": 51,
   "metadata": {},
   "outputs": [
    {
     "data": {
      "text/plain": [
       "<matplotlib.axes._subplots.AxesSubplot at 0x7f4843a93fd0>"
      ]
     },
     "execution_count": 51,
     "metadata": {},
     "output_type": "execute_result"
    },
    {
     "data": {
      "image/png": "[encoded data removed]",
      "text/plain": [
       "<Figure size 600x400 with 1 Axes>"
      ]
     },
     "metadata": {},
     "output_type": "display_data"
    }
   ],
   "source": [
    "combined.corr()[\"sat_score\"][survey_fields].plot.bar()"
   ]
  },
  {
   "cell_type": "markdown",
   "metadata": {},
   "source": [
    "There are high correlations between N_s, N_t, N_p and sat_score. Since these columns are correlated with total_enrollment, it makes sense that they would be high.\n",
    "\n",
    "It is more interesting that rr_s, the student response rate, or the percentage of students that completed the survey, correlates with sat_score. This might make sense because students who are more likely to fill out surveys may be more likely to also be doing well academically.\n",
    "\n",
    "How students and teachers percieved safety (saf_t_11 and saf_s_11) correlate with sat_score. This make sense, as it's hard to teach or learn in an unsafe environment.\n",
    "\n",
    "The last interesting correlation is the aca_s_11, which indicates how the student perceives academic standards, correlates with sat_score, but this is not true for aca_t_11, how teachers perceive academic standards, or aca_p_11, how parents perceive academic standards."
   ]
  },
  {
   "cell_type": "code",
   "execution_count": 52,
   "metadata": {},
   "outputs": [
    {
     "data": {
      "text/plain": [
       "rr_s          0.232199\n",
       "rr_t         -0.023386\n",
       "rr_p          0.047925\n",
       "N_s           0.423463\n",
       "N_t           0.291463\n",
       "N_p           0.421530\n",
       "saf_p_11      0.122913\n",
       "com_p_11     -0.115073\n",
       "eng_p_11      0.020254\n",
       "aca_p_11      0.035155\n",
       "saf_t_11      0.313810\n",
       "com_t_11      0.082419\n",
       "eng_t_11      0.036906\n",
       "aca_t_11      0.132348\n",
       "saf_s_11      0.337639\n",
       "com_s_11      0.187370\n",
       "eng_s_11      0.213822\n",
       "aca_s_11      0.339435\n",
       "saf_tot_11    0.318753\n",
       "com_tot_11    0.077310\n",
       "eng_tot_11    0.100102\n",
       "aca_tot_11    0.190966\n",
       "Name: sat_score, dtype: float64"
      ]
     },
     "execution_count": 52,
     "metadata": {},
     "output_type": "execute_result"
    }
   ],
   "source": [
    "combined.corr()[\"sat_score\"][survey_fields]"
   ]
  },
  {
   "cell_type": "code",
   "execution_count": 53,
   "metadata": {},
   "outputs": [
    {
     "data": {
      "text/plain": [
       "sat_score     1.000000\n",
       "rr_s          0.232199\n",
       "rr_t         -0.023386\n",
       "rr_p          0.047925\n",
       "N_s           0.423463\n",
       "N_t           0.291463\n",
       "N_p           0.421530\n",
       "saf_p_11      0.122913\n",
       "com_p_11     -0.115073\n",
       "eng_p_11      0.020254\n",
       "aca_p_11      0.035155\n",
       "saf_t_11      0.313810\n",
       "com_t_11      0.082419\n",
       "eng_t_11      0.036906\n",
       "aca_t_11      0.132348\n",
       "saf_s_11      0.337639\n",
       "com_s_11      0.187370\n",
       "eng_s_11      0.213822\n",
       "aca_s_11      0.339435\n",
       "saf_tot_11    0.318753\n",
       "com_tot_11    0.077310\n",
       "eng_tot_11    0.100102\n",
       "aca_tot_11    0.190966\n",
       "Name: sat_score, dtype: float64"
      ]
     },
     "execution_count": 53,
     "metadata": {},
     "output_type": "execute_result"
    }
   ],
   "source": [
    "correlations_bar"
   ]
  },
  {
   "cell_type": "markdown",
   "metadata": {},
   "source": [
    "markdown"
   ]
  },
  {
   "cell_type": "code",
   "execution_count": 54,
   "metadata": {},
   "outputs": [
    {
     "data": {
      "image/png": "[encoded data removed]",
      "text/plain": [
       "<Figure size 600x400 with 1 Axes>"
      ]
     },
     "metadata": {},
     "output_type": "display_data"
    }
   ],
   "source": [
    "plt.scatter(combined['saf_s_11'], combined['sat_score'])\n",
    "plt.show()"
   ]
  },
  {
   "cell_type": "markdown",
   "metadata": {},
   "source": [
    "There appears to be a correlation between SAT scores and safety, although it isn't thatstrong. It looks like there are a few schools with extremely high SAT scores and high safety scores. There are a few schools with low safety scores and low SAT scores. No school with a safety score lower than 6.5 has an average SAT score higher than 1500 or so."
   ]
  },
  {
   "cell_type": "code",
   "execution_count": 55,
   "metadata": {},
   "outputs": [
    {
     "name": "stdout",
     "output_type": "stream",
     "text": [
      "boro\n",
      "Bronx            6.606577\n",
      "Brooklyn         6.370755\n",
      "Manhattan        6.831370\n",
      "Queens           6.721875\n",
      "Staten Island    6.530000\n",
      "Name: saf_s_11, dtype: float64\n"
     ]
    }
   ],
   "source": [
    "boros = combined.groupby(\"boro\").agg(numpy.mean)[\"saf_s_11\"]\n",
    "print(boros)"
   ]
  },
  {
   "cell_type": "markdown",
   "metadata": {},
   "source": [
    "It looks like Manhattan and Queens tend to have higher safety scores, whereas Brooklyn has low safety scores."
   ]
  },
  {
   "cell_type": "code",
   "execution_count": 56,
   "metadata": {},
   "outputs": [],
   "source": [
    "## Racial Differences in SAT Scores"
   ]
  },
  {
   "cell_type": "code",
   "execution_count": 57,
   "metadata": {},
   "outputs": [
    {
     "data": {
      "image/png": "[encoded data removed]",
      "text/plain": [
       "<Figure size 600x400 with 1 Axes>"
      ]
     },
     "metadata": {},
     "output_type": "display_data"
    }
   ],
   "source": [
    "race_fields = ['white_per', 'asian_per', 'black_per', 'hispanic_per']\n",
    "\n",
    "combined.corr()[\"sat_score\"][race_fields].plot.bar()\n",
    "\n",
    "plt.show()"
   ]
  },
  {
   "cell_type": "markdown",
   "metadata": {},
   "source": [
    "It looks like a higher percentage of white or asian students at a school correlates positively with sat score, whereas a higher percentage of black or hispanic students correlates negatively with sat score. "
   ]
  },
  {
   "cell_type": "code",
   "execution_count": 58,
   "metadata": {},
   "outputs": [
    {
     "data": {
      "image/png": "[encoded data removed]",
      "text/plain": [
       "<Figure size 600x400 with 1 Axes>"
      ]
     },
     "metadata": {},
     "output_type": "display_data"
    }
   ],
   "source": [
    "plt.scatter(combined['hispanic_per'], combined['sat_score'])\n",
    "plt.show()"
   ]
  },
  {
   "cell_type": "code",
   "execution_count": 59,
   "metadata": {},
   "outputs": [],
   "source": [
    "hispanic_pct = combined.loc[combined['hispanic_per'] > 95]"
   ]
  },
  {
   "cell_type": "code",
   "execution_count": 60,
   "metadata": {},
   "outputs": [
    {
     "data": {
      "text/plain": [
       "array(['MANHATTAN BRIDGES HIGH SCHOOL',\n",
       "       'WASHINGTON HEIGHTS EXPEDITIONARY LEARNING SCHOOL',\n",
       "       'GREGORIO LUPERON HIGH SCHOOL FOR SCIENCE AND MATHEMATICS',\n",
       "       'ACADEMY FOR LANGUAGE AND TECHNOLOGY',\n",
       "       'INTERNATIONAL SCHOOL FOR LIBERAL ARTS',\n",
       "       'PAN AMERICAN INTERNATIONAL HIGH SCHOOL AT MONROE',\n",
       "       'MULTICULTURAL HIGH SCHOOL',\n",
       "       'PAN AMERICAN INTERNATIONAL HIGH SCHOOL'], dtype=object)"
      ]
     },
     "execution_count": 60,
     "metadata": {},
     "output_type": "execute_result"
    }
   ],
   "source": [
    "hispanic_pct['SCHOOL NAME'].unique()"
   ]
  },
  {
   "cell_type": "markdown",
   "metadata": {},
   "source": [
    "The schools listed above appear to primarily be geared towards recent immigrants to the US. These schools have a lot of students who are learning English, which would explain the lower SAT scores."
   ]
  },
  {
   "cell_type": "code",
   "execution_count": 61,
   "metadata": {},
   "outputs": [],
   "source": [
    "hispanic_pct_score = combined.loc[(combined['hispanic_per'] < 10) & (combined['sat_score'] > 1800)]"
   ]
  },
  {
   "cell_type": "code",
   "execution_count": 62,
   "metadata": {},
   "outputs": [
    {
     "data": {
      "text/plain": [
       "array(['STUYVESANT HIGH SCHOOL', 'BRONX HIGH SCHOOL OF SCIENCE',\n",
       "       'BROOKLYN TECHNICAL HIGH SCHOOL',\n",
       "       'QUEENS HIGH SCHOOL FOR THE SCIENCES AT YORK COLLEGE',\n",
       "       'STATEN ISLAND TECHNICAL HIGH SCHOOL'], dtype=object)"
      ]
     },
     "execution_count": 62,
     "metadata": {},
     "output_type": "execute_result"
    }
   ],
   "source": [
    "hispanic_pct_score['SCHOOL NAME'].unique()"
   ]
  },
  {
   "cell_type": "markdown",
   "metadata": {},
   "source": [
    "## Gender Differences in SAT scores"
   ]
  },
  {
   "cell_type": "code",
   "execution_count": 63,
   "metadata": {},
   "outputs": [
    {
     "data": {
      "image/png": "[encoded data removed]",
      "text/plain": [
       "<Figure size 600x400 with 1 Axes>"
      ]
     },
     "metadata": {},
     "output_type": "display_data"
    }
   ],
   "source": [
    "gender_fields = ['male_per', 'female_per']\n",
    "\n",
    "combined.corr()[\"sat_score\"][gender_fields].plot.bar()\n",
    "\n",
    "plt.show()"
   ]
  },
  {
   "cell_type": "markdown",
   "metadata": {},
   "source": [
    "In the plot above, we can see that a high percentage of females at a school positively correlates with SAT score, whereas a high percentage of males at a school negatively correlates with SAT score. Neither correlation is extremely strong."
   ]
  },
  {
   "cell_type": "code",
   "execution_count": 64,
   "metadata": {},
   "outputs": [
    {
     "data": {
      "image/png": "[encoded data removed]",
      "text/plain": [
       "<Figure size 600x400 with 1 Axes>"
      ]
     },
     "metadata": {},
     "output_type": "display_data"
    }
   ],
   "source": [
    "plt.scatter(combined['sat_score'], combined['female_per'])\n",
    "plt.xlabel('Female Per')\n",
    "plt.ylabel('Sat Score')\n",
    "plt.show()"
   ]
  },
  {
   "cell_type": "code",
   "execution_count": 65,
   "metadata": {},
   "outputs": [],
   "source": [
    "school_pct = combined.loc[(combined['female_per'] > 60) & (combined['sat_score'] > 1700)]"
   ]
  },
  {
   "cell_type": "code",
   "execution_count": 66,
   "metadata": {},
   "outputs": [
    {
     "data": {
      "text/plain": [
       "array(['BARD HIGH SCHOOL EARLY COLLEGE', 'ELEANOR ROOSEVELT HIGH SCHOOL',\n",
       "       'BEACON HIGH SCHOOL',\n",
       "       'FIORELLO H. LAGUARDIA HIGH SCHOOL OF MUSIC & ART AND PERFORMING ARTS',\n",
       "       'TOWNSEND HARRIS HIGH SCHOOL'], dtype=object)"
      ]
     },
     "execution_count": 66,
     "metadata": {},
     "output_type": "execute_result"
    }
   ],
   "source": [
    "school_pct['SCHOOL NAME'].unique()"
   ]
  },
  {
   "cell_type": "markdown",
   "metadata": {},
   "source": [
    "## AP Exam Scores vs SAT Scores"
   ]
  },
  {
   "cell_type": "code",
   "execution_count": 67,
   "metadata": {},
   "outputs": [
    {
     "data": {
      "text/html": [
       "<div>\n",
       "<style scoped>\n",
       "    .dataframe tbody tr th:only-of-type {\n",
       "        vertical-align: middle;\n",
       "    }\n",
       "\n",
       "    .dataframe tbody tr th {\n",
       "        vertical-align: top;\n",
       "    }\n",
       "\n",
       "    .dataframe thead th {\n",
       "        text-align: right;\n",
       "    }\n",
       "</style>\n",
       "<table border=\"1\" class=\"dataframe\">\n",
       "  <thead>\n",
       "    <tr style=\"text-align: right;\">\n",
       "      <th></th>\n",
       "      <th>DBN</th>\n",
       "      <th>SCHOOL NAME</th>\n",
       "      <th>Num of SAT Test Takers</th>\n",
       "      <th>SAT Critical Reading Avg. Score</th>\n",
       "      <th>SAT Math Avg. Score</th>\n",
       "      <th>SAT Writing Avg. Score</th>\n",
       "      <th>sat_score</th>\n",
       "      <th>SchoolName</th>\n",
       "      <th>AP Test Takers</th>\n",
       "      <th>Total Exams Taken</th>\n",
       "      <th>...</th>\n",
       "      <th>priority06</th>\n",
       "      <th>priority07</th>\n",
       "      <th>priority08</th>\n",
       "      <th>priority09</th>\n",
       "      <th>priority10</th>\n",
       "      <th>Location 1</th>\n",
       "      <th>lat</th>\n",
       "      <th>lon</th>\n",
       "      <th>school_dist</th>\n",
       "      <th>ap_per</th>\n",
       "    </tr>\n",
       "  </thead>\n",
       "  <tbody>\n",
       "    <tr>\n",
       "      <th>0</th>\n",
       "      <td>01M292</td>\n",
       "      <td>HENRY STREET SCHOOL FOR INTERNATIONAL STUDIES</td>\n",
       "      <td>29</td>\n",
       "      <td>355.0</td>\n",
       "      <td>404.0</td>\n",
       "      <td>363.0</td>\n",
       "      <td>1122.0</td>\n",
       "      <td>0</td>\n",
       "      <td>129.028846</td>\n",
       "      <td>197.038462</td>\n",
       "      <td>...</td>\n",
       "      <td>0</td>\n",
       "      <td>0</td>\n",
       "      <td>0.0</td>\n",
       "      <td>0.0</td>\n",
       "      <td>0.0</td>\n",
       "      <td>220 Henry Street\\nNew York, NY 10002\\n(40.7137...</td>\n",
       "      <td>40.713764</td>\n",
       "      <td>-73.985260</td>\n",
       "      <td>01</td>\n",
       "      <td>0.305756</td>\n",
       "    </tr>\n",
       "    <tr>\n",
       "      <th>1</th>\n",
       "      <td>01M448</td>\n",
       "      <td>UNIVERSITY NEIGHBORHOOD HIGH SCHOOL</td>\n",
       "      <td>91</td>\n",
       "      <td>383.0</td>\n",
       "      <td>423.0</td>\n",
       "      <td>366.0</td>\n",
       "      <td>1172.0</td>\n",
       "      <td>UNIVERSITY NEIGHBORHOOD H.S.</td>\n",
       "      <td>39.000000</td>\n",
       "      <td>49.000000</td>\n",
       "      <td>...</td>\n",
       "      <td>0</td>\n",
       "      <td>0</td>\n",
       "      <td>0.0</td>\n",
       "      <td>0.0</td>\n",
       "      <td>0.0</td>\n",
       "      <td>200 Monroe Street\\nNew York, NY 10002\\n(40.712...</td>\n",
       "      <td>40.712332</td>\n",
       "      <td>-73.984797</td>\n",
       "      <td>01</td>\n",
       "      <td>0.098985</td>\n",
       "    </tr>\n",
       "    <tr>\n",
       "      <th>2</th>\n",
       "      <td>01M450</td>\n",
       "      <td>EAST SIDE COMMUNITY SCHOOL</td>\n",
       "      <td>70</td>\n",
       "      <td>377.0</td>\n",
       "      <td>402.0</td>\n",
       "      <td>370.0</td>\n",
       "      <td>1149.0</td>\n",
       "      <td>EAST SIDE COMMUNITY HS</td>\n",
       "      <td>19.000000</td>\n",
       "      <td>21.000000</td>\n",
       "      <td>...</td>\n",
       "      <td>0</td>\n",
       "      <td>0</td>\n",
       "      <td>0.0</td>\n",
       "      <td>0.0</td>\n",
       "      <td>0.0</td>\n",
       "      <td>420 East 12 Street\\nNew York, NY 10009\\n(40.72...</td>\n",
       "      <td>40.729783</td>\n",
       "      <td>-73.983041</td>\n",
       "      <td>01</td>\n",
       "      <td>0.031773</td>\n",
       "    </tr>\n",
       "    <tr>\n",
       "      <th>3</th>\n",
       "      <td>01M509</td>\n",
       "      <td>MARTA VALLE HIGH SCHOOL</td>\n",
       "      <td>44</td>\n",
       "      <td>390.0</td>\n",
       "      <td>433.0</td>\n",
       "      <td>384.0</td>\n",
       "      <td>1207.0</td>\n",
       "      <td>0</td>\n",
       "      <td>129.028846</td>\n",
       "      <td>197.038462</td>\n",
       "      <td>...</td>\n",
       "      <td>0</td>\n",
       "      <td>0</td>\n",
       "      <td>0.0</td>\n",
       "      <td>0.0</td>\n",
       "      <td>0.0</td>\n",
       "      <td>145 Stanton Street\\nNew York, NY 10002\\n(40.72...</td>\n",
       "      <td>40.720569</td>\n",
       "      <td>-73.985673</td>\n",
       "      <td>01</td>\n",
       "      <td>0.351577</td>\n",
       "    </tr>\n",
       "    <tr>\n",
       "      <th>4</th>\n",
       "      <td>01M539</td>\n",
       "      <td>NEW EXPLORATIONS INTO SCIENCE, TECHNOLOGY AND ...</td>\n",
       "      <td>159</td>\n",
       "      <td>522.0</td>\n",
       "      <td>574.0</td>\n",
       "      <td>525.0</td>\n",
       "      <td>1621.0</td>\n",
       "      <td>NEW EXPLORATIONS SCI,TECH,MATH</td>\n",
       "      <td>255.000000</td>\n",
       "      <td>377.000000</td>\n",
       "      <td>...</td>\n",
       "      <td>0</td>\n",
       "      <td>0</td>\n",
       "      <td>0.0</td>\n",
       "      <td>0.0</td>\n",
       "      <td>0.0</td>\n",
       "      <td>111 Columbia Street\\nNew York, NY 10002\\n(40.7...</td>\n",
       "      <td>40.718725</td>\n",
       "      <td>-73.979426</td>\n",
       "      <td>01</td>\n",
       "      <td>0.158091</td>\n",
       "    </tr>\n",
       "  </tbody>\n",
       "</table>\n",
       "<p>5 rows × 161 columns</p>\n",
       "</div>"
      ],
      "text/plain": [
       "      DBN                                        SCHOOL NAME  \\\n",
       "0  01M292      HENRY STREET SCHOOL FOR INTERNATIONAL STUDIES   \n",
       "1  01M448                UNIVERSITY NEIGHBORHOOD HIGH SCHOOL   \n",
       "2  01M450                         EAST SIDE COMMUNITY SCHOOL   \n",
       "3  01M509                            MARTA VALLE HIGH SCHOOL   \n",
       "4  01M539  NEW EXPLORATIONS INTO SCIENCE, TECHNOLOGY AND ...   \n",
       "\n",
       "  Num of SAT Test Takers  SAT Critical Reading Avg. Score  \\\n",
       "0                     29                            355.0   \n",
       "1                     91                            383.0   \n",
       "2                     70                            377.0   \n",
       "3                     44                            390.0   \n",
       "4                    159                            522.0   \n",
       "\n",
       "   SAT Math Avg. Score  SAT Writing Avg. Score  sat_score  \\\n",
       "0                404.0                   363.0     1122.0   \n",
       "1                423.0                   366.0     1172.0   \n",
       "2                402.0                   370.0     1149.0   \n",
       "3                433.0                   384.0     1207.0   \n",
       "4                574.0                   525.0     1621.0   \n",
       "\n",
       "                       SchoolName  AP Test Takers   Total Exams Taken  ...  \\\n",
       "0                               0       129.028846         197.038462  ...   \n",
       "1    UNIVERSITY NEIGHBORHOOD H.S.        39.000000          49.000000  ...   \n",
       "2          EAST SIDE COMMUNITY HS        19.000000          21.000000  ...   \n",
       "3                               0       129.028846         197.038462  ...   \n",
       "4  NEW EXPLORATIONS SCI,TECH,MATH       255.000000         377.000000  ...   \n",
       "\n",
       "   priority06 priority07 priority08 priority09  priority10  \\\n",
       "0           0          0        0.0        0.0         0.0   \n",
       "1           0          0        0.0        0.0         0.0   \n",
       "2           0          0        0.0        0.0         0.0   \n",
       "3           0          0        0.0        0.0         0.0   \n",
       "4           0          0        0.0        0.0         0.0   \n",
       "\n",
       "                                          Location 1        lat        lon  \\\n",
       "0  220 Henry Street\\nNew York, NY 10002\\n(40.7137...  40.713764 -73.985260   \n",
       "1  200 Monroe Street\\nNew York, NY 10002\\n(40.712...  40.712332 -73.984797   \n",
       "2  420 East 12 Street\\nNew York, NY 10009\\n(40.72...  40.729783 -73.983041   \n",
       "3  145 Stanton Street\\nNew York, NY 10002\\n(40.72...  40.720569 -73.985673   \n",
       "4  111 Columbia Street\\nNew York, NY 10002\\n(40.7...  40.718725 -73.979426   \n",
       "\n",
       "  school_dist    ap_per  \n",
       "0          01  0.305756  \n",
       "1          01  0.098985  \n",
       "2          01  0.031773  \n",
       "3          01  0.351577  \n",
       "4          01  0.158091  \n",
       "\n",
       "[5 rows x 161 columns]"
      ]
     },
     "execution_count": 67,
     "metadata": {},
     "output_type": "execute_result"
    }
   ],
   "source": [
    "combined['ap_per'] = combined['AP Test Takers '] / combined['total_enrollment']\n",
    "\n",
    "combined.head()"
   ]
  },
  {
   "cell_type": "code",
   "execution_count": 68,
   "metadata": {},
   "outputs": [
    {
     "data": {
      "image/png": "[encoded data removed]",
      "text/plain": [
       "<Figure size 600x400 with 1 Axes>"
      ]
     },
     "metadata": {},
     "output_type": "display_data"
    }
   ],
   "source": [
    "plt.scatter(combined['ap_per'], combined['sat_score'])\n",
    "plt.xlabel('Percentage AP Test Takers')\n",
    "plt.ylabel('SAT Scores')\n",
    "plt.show()"
   ]
  },
  {
   "cell_type": "markdown",
   "metadata": {},
   "source": [
    "There is not a strong correlation between those that took the AP Test and how they scored on the SAT Test"
   ]
  }
 ],
 "metadata": {
  "kernelspec": {
   "display_name": "Python 3",
   "language": "python",
   "name": "python3"
  },
  "language_info": {
   "codemirror_mode": {
    "name": "ipython",
    "version": 3
   },
   "file_extension": ".py",
   "mimetype": "text/x-python",
   "name": "python",
   "nbconvert_exporter": "python",
   "pygments_lexer": "ipython3",
   "version": "3.8.2"
  }
 },
 "nbformat": 4,
 "nbformat_minor": 2
}
