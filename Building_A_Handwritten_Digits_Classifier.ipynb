{
 "cells": [
  {
   "cell_type": "markdown",
   "metadata": {
    "collapsed": true
   },
   "source": [
    "## Project: Building A Handwritten Digits Classifier"
   ]
  },
  {
   "cell_type": "markdown",
   "metadata": {},
   "source": [
    "* explore why image classification is a hard task\n",
    "* observe the limitations of traditional machine learning models for image classification\n",
    "* train, test, and improve a few different deep neural networks for image classification\n",
    "\n",
    "In this project, deep neural networks have been used to reach state-of-the-art performance on image classification tasks in the last decade. For some image classification tasks, deep neural networks actually perform as well as or slightly better than the human benchmark. "
   ]
  },
  {
   "cell_type": "markdown",
   "metadata": {},
   "source": [
    "**Why is image classification a hard task?**\n",
    "\n",
    "Within the field of machine learning and pattern recognition, image classification (especially for handwritten text) is towards the difficult end of the spectrum. There are a few reasons for this.\n",
    "\n",
    "First, each image in a training set is high dimensional. Each pixel in an image is a feature and a separate column. This means that a 128 x 128 image has 16384 features.\n",
    "\n",
    "Second, images are often downsampled to lower resolutions and transformed to grayscale (no color). This is a limitation of compute power unfortunately. The resolution of a 8 megapixel photo has 3264 by 2448 pixels, for a total of 7,990,272 features (or about 8 million). Images of this resolution are usually scaled down to between 128 and 512 pixels in either direction for significantly faster processing. This often results in a loss of detail that's available for training and pattern matching.\n",
    "\n",
    "Third, the features in an image don't have an obvious linear or nonlinear relationship that can be learned with a model like linear or logistic regression. In grayscale, each pixel is just represented as a brightness value ranging from 0 to 256."
   ]
  },
  {
   "cell_type": "markdown",
   "metadata": {},
   "source": [
    "**Why is deep learning effective in image classification?**\n",
    "\n",
    "Deep learning is effective in image classification because of the models' ability to learn hierarchical representations. At a high level, an effective deep learning model learns intermediate representations at each layer in the model and uses them in the prediction process."
   ]
  },
  {
   "cell_type": "markdown",
   "metadata": {},
   "source": [
    "Scikit-learn contains a number of datasets pre-loaded with the library, within the namespace of sklearn.datasets. The load_digits() function returns a copy of the hand-written digits dataset from UCI."
   ]
  },
  {
   "cell_type": "markdown",
   "metadata": {},
   "source": [
    "Because dataframes are a tabular representation of data, each image is represented as a row of pixel values. To visualize an image from the dataframe, we need to reshape the image back to its original dimensions (28 x 28 pixels). To visualize the image, we need to reshape these pixel values back into the 28 by 28 and plot them on a coordinate grid.\n",
    "\n",
    "To reshape the image, we need to convert a training example to a numpy array (excluding the label column) and pass the result into that into the numpy.reshape() function"
   ]
  },
  {
   "cell_type": "code",
   "execution_count": 1,
   "metadata": {},
   "outputs": [],
   "source": [
    "from sklearn.datasets import load_digits"
   ]
  },
  {
   "cell_type": "code",
   "execution_count": 2,
   "metadata": {},
   "outputs": [],
   "source": [
    "digits = load_digits()"
   ]
  },
  {
   "cell_type": "code",
   "execution_count": 3,
   "metadata": {},
   "outputs": [
    {
     "name": "stdout",
     "output_type": "stream",
     "text": [
      "(1797, 64)\n"
     ]
    }
   ],
   "source": [
    "print(digits.data.shape)"
   ]
  },
  {
   "cell_type": "code",
   "execution_count": 36,
   "metadata": {},
   "outputs": [],
   "source": [
    "import pandas as pd\n",
    "import numpy as np\n",
    "\n",
    "import matplotlib.pyplot as plt\n",
    "import seaborn as sns\n",
    "\n",
    "# Suppress warnings\n",
    "import warnings\n",
    "warnings.simplefilter(action='ignore')\n",
    "%matplotlib inline"
   ]
  },
  {
   "cell_type": "code",
   "execution_count": 5,
   "metadata": {},
   "outputs": [],
   "source": [
    "df = load_digits(as_frame=True)"
   ]
  },
  {
   "cell_type": "code",
   "execution_count": 6,
   "metadata": {},
   "outputs": [],
   "source": [
    "features = df.data\n",
    "target = pd.Series(df.target)"
   ]
  },
  {
   "cell_type": "code",
   "execution_count": 7,
   "metadata": {},
   "outputs": [
    {
     "data": {
      "image/png": "[encoded data removed]",
      "text/plain": [
       "<Figure size 1000x500 with 8 Axes>"
      ]
     },
     "metadata": {},
     "output_type": "display_data"
    }
   ],
   "source": [
    "image_rows = [0, 100, 200, 300, 1000, 1100, 1200, 1300]\n",
    "\n",
    "fig = plt.figure(figsize=(10,5))\n",
    "\n",
    "i = 0\n",
    "for img in image_rows:\n",
    "    image = features.iloc[img]\n",
    "    np_image = image.values\n",
    "    np_image = np_image.reshape(8,8)\n",
    "    ax = fig.add_subplot(2,4, i +1)\n",
    "    ax.set_title(\"training: %i\"%img)\n",
    "    ax.axes.get_xaxis().set_visible(False)\n",
    "    ax.axes.get_yaxis().set_visible(False)\n",
    "    ax.imshow(np_image, cmap= \"gray_r\")\n",
    "    i += 1"
   ]
  },
  {
   "cell_type": "markdown",
   "metadata": {},
   "source": [
    "The k-nearest neighbors algorithm compares every unseen observation in the test set to all (or many, as some implementations constrain the search space) training observations to look for similar (or the \"nearest\") observations. Then, the algorithm finds the label with the most nearby observations and assigns that as the prediction for the unseen observation."
   ]
  },
  {
   "cell_type": "code",
   "execution_count": 8,
   "metadata": {},
   "outputs": [],
   "source": [
    "from sklearn.model_selection import train_test_split\n",
    "from sklearn.neighbors import KNeighborsClassifier\n",
    "from sklearn.model_selection import cross_val_score\n",
    "from sklearn.metrics import accuracy_score\n",
    "from sklearn.model_selection import KFold"
   ]
  },
  {
   "cell_type": "code",
   "execution_count": 12,
   "metadata": {},
   "outputs": [],
   "source": [
    "features = pd.DataFrame(df.data)\n",
    "target = pd.Series(df.target)"
   ]
  },
  {
   "cell_type": "code",
   "execution_count": 13,
   "metadata": {},
   "outputs": [],
   "source": [
    "X_train, X_test, y_train, y_test = train_test_split(features,\n",
    "                                                    target,\n",
    "                                                    test_size=0.33,\n",
    "                                                    random_state=42)"
   ]
  },
  {
   "cell_type": "code",
   "execution_count": 58,
   "metadata": {},
   "outputs": [],
   "source": [
    "\n",
    "def train(X, y, k):\n",
    "    clf = KNeighborsClassifier(n_neighbors=k)\n",
    "    clf.fit(X, y)\n",
    "    return clf\n",
    "    \n",
    "def test(X1, y1, clf):\n",
    "    predictions = clf.predict(X1)\n",
    "    return accuracy_score(y1, predictions)\n",
    "\n",
    "\n",
    "\n",
    "def cross_validate(k):\n",
    "    old_accuracies = []\n",
    "    fold_accuracies=[]\n",
    "    kf = KFold(n_splits=4, random_state=42)\n",
    "    for train_index, test_index in kf.split(data):\n",
    "        train_features, test_features = data.loc[train_index], data.loc[test_index]\n",
    "        train_target, test_target = target.loc[train_index], target.loc[test_index]\n",
    "        model = train(train_features, train_target, k)\n",
    "        overall_accuracy = test(test_features, test_target, model)\n",
    "        fold_accuracies.append(overall_accuracy)\n",
    "    return fold_accuracies       "
   ]
  },
  {
   "cell_type": "code",
   "execution_count": 56,
   "metadata": {},
   "outputs": [
    {
     "data": {
      "text/plain": [
       "[0.9533333333333334, 0.955456570155902, 0.9821826280623608, 0.9688195991091314]"
      ]
     },
     "execution_count": 56,
     "metadata": {},
     "output_type": "execute_result"
    }
   ],
   "source": [
    "# Perform 4-fold cross validation using the train and test functions\n",
    "#  created above\n",
    "data = load_digits()\n",
    "target = pd.Series(data['target'])\n",
    "data = pd.DataFrame(data['data'])\n",
    "\n",
    " \n",
    "cross_validate(4)"
   ]
  },
  {
   "cell_type": "code",
   "execution_count": 59,
   "metadata": {},
   "outputs": [
    {
     "data": {
      "image/png": "[encoded data removed]",
      "text/plain": [
       "<Figure size 600x400 with 1 Axes>"
      ]
     },
     "metadata": {},
     "output_type": "display_data"
    }
   ],
   "source": [
    "klist = [2,3,4,5,6,7,8,9,10,11]\n",
    "\n",
    "k_accuracy = []\n",
    "\n",
    "for k in klist:\n",
    "    k_values = cross_validate(k)\n",
    "    k_mean = np.mean(k_values)\n",
    "    k_accuracy.append(k_mean)\n",
    "\n",
    "\n",
    "plt.plot(klist, k_accuracy)\n",
    "plt.title(\"Mean accuracy Vs. K\")\n",
    "plt.show()"
   ]
  },
  {
   "cell_type": "code",
   "execution_count": 61,
   "metadata": {},
   "outputs": [],
   "source": [
    "from sklearn.neural_network import MLPClassifier"
   ]
  },
  {
   "cell_type": "code",
   "execution_count": 63,
   "metadata": {},
   "outputs": [],
   "source": [
    "shuffled_index = np.random.permutation(data.index)\n",
    "shuffled_data = data.loc[shuffled_index]\n",
    "shuffled_labels = target.loc[shuffled_index]\n",
    "\n",
    "mid_length = int(len(shuffled_data)/2)\n",
    "train_features = shuffled_data.iloc[0:mid_length]\n",
    "test_features = shuffled_data.iloc[mid_length:len(shuffled_data)]\n",
    "train_labels = shuffled_labels.iloc[0:mid_length]\n",
    "test_labels = shuffled_labels.iloc[mid_length: len(target)]"
   ]
  },
  {
   "cell_type": "code",
   "execution_count": 64,
   "metadata": {},
   "outputs": [
    {
     "name": "stdout",
     "output_type": "stream",
     "text": [
      "0.9121245828698554\n",
      "0.9566184649610678\n",
      "0.9688542825361512\n",
      "0.9721913236929922\n",
      "0.9755283648498332\n",
      "0.9810901001112347\n",
      "[0.9121245828698554, 0.9566184649610678, 0.9688542825361512, 0.9721913236929922, 0.9755283648498332, 0.9810901001112347]\n"
     ]
    }
   ],
   "source": [
    "neurons = [8, 16, 32, 64, 128, 256]\n",
    "accuracies = []\n",
    "\n",
    "for i in neurons:\n",
    "    mlp = MLPClassifier(hidden_layer_sizes=(i,), activation='logistic')\n",
    "    mlp.fit(train_features, train_labels)\n",
    "    nn_predictions = mlp.predict(test_features)\n",
    "    nn_accuracy = accuracy_score(test_labels, nn_predictions)\n",
    "    accuracies.append(nn_accuracy)\n",
    "    print(nn_accuracy)\n",
    "    \n",
    "print(accuracies)"
   ]
  },
  {
   "cell_type": "markdown",
   "metadata": {},
   "source": [
    "## K-fold Cross Validation Neural Network with 2 Hidden Layers (64 Neurons)"
   ]
  },
  {
   "cell_type": "code",
   "execution_count": 66,
   "metadata": {},
   "outputs": [
    {
     "name": "stdout",
     "output_type": "stream",
     "text": [
      "0.9444444444444444\n",
      "0.933184855233853\n",
      "0.9665924276169265\n",
      "0.9287305122494433\n"
     ]
    }
   ],
   "source": [
    "accuracies = []\n",
    "\n",
    "# 4-fold cross validation\n",
    "kf = KFold(n_splits=4, random_state=42)\n",
    "\n",
    "for train_index, test_index in kf.split(data):\n",
    "    train_features, test_features = data.loc[train_index], data.loc[test_index]\n",
    "    train_target, test_target = target.loc[train_index], target.loc[test_index]\n",
    "    \n",
    "    # Instantiate the Model\n",
    "    mlp = MLPClassifier(hidden_layer_sizes=(64,64), activation='logistic')\n",
    "    \n",
    "    # Fit the model\n",
    "    mlp.fit(train_features, train_target)\n",
    "    nn_predictions = mlp.predict(test_features)\n",
    "    nn_accuracy = accuracy_score(test_target, nn_predictions)\n",
    "    accuracies.append(nn_accuracy)\n",
    "    print(nn_accuracy)\n",
    " "
   ]
  },
  {
   "cell_type": "markdown",
   "metadata": {},
   "source": [
    "### 6-fold Cross Validation Neural Network with 3 Hidden Layers (10,10,10 Neurons)"
   ]
  },
  {
   "cell_type": "code",
   "execution_count": 68,
   "metadata": {},
   "outputs": [
    {
     "name": "stdout",
     "output_type": "stream",
     "text": [
      "0.8733333333333333\n",
      "0.82\n",
      "0.8233333333333334\n",
      "0.8963210702341137\n",
      "0.903010033444816\n",
      "0.7959866220735786\n"
     ]
    }
   ],
   "source": [
    "accuracies = []\n",
    "\n",
    "# 4-fold cross validation\n",
    "kf = KFold(n_splits=6, random_state=42)\n",
    "\n",
    "for train_index, test_index in kf.split(data):\n",
    "    train_features, test_features = data.loc[train_index], data.loc[test_index]\n",
    "    train_target, test_target = target.loc[train_index], target.loc[test_index]\n",
    "    \n",
    "    # Instantiate the Model\n",
    "    mlp = MLPClassifier(hidden_layer_sizes=(10,10,10), activation='logistic', max_iter=1000)\n",
    "    \n",
    "    # Fit the model\n",
    "    mlp.fit(train_features, train_target)\n",
    "    nn_predictions = mlp.predict(test_features)\n",
    "    nn_accuracy = accuracy_score(test_target, nn_predictions)\n",
    "    accuracies.append(nn_accuracy)\n",
    "    print(nn_accuracy)"
   ]
  },
  {
   "cell_type": "code",
   "execution_count": null,
   "metadata": {},
   "outputs": [],
   "source": []
  }
 ],
 "metadata": {
  "anaconda-cloud": {},
  "kernelspec": {
   "display_name": "Python 3 (ipykernel)",
   "language": "python",
   "name": "python3"
  },
  "language_info": {
   "codemirror_mode": {
    "name": "ipython",
    "version": 3
   },
   "file_extension": ".py",
   "mimetype": "text/x-python",
   "name": "python",
   "nbconvert_exporter": "python",
   "pygments_lexer": "ipython3",
   "version": "3.9.12"
  }
 },
 "nbformat": 4,
 "nbformat_minor": 2
}
